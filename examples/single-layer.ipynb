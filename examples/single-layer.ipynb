{
 "cells": [
  {
   "cell_type": "code",
   "execution_count": 1,
   "metadata": {},
   "outputs": [
    {
     "data": {
      "text/html": [
       "Installing package MNCD, version 1.0.0..............................done!"
      ]
     },
     "metadata": {},
     "output_type": "display_data"
    },
    {
     "data": {
      "text/html": [
       "Successfully added reference to package MNCD, version 1.0.0"
      ]
     },
     "metadata": {},
     "output_type": "display_data"
    }
   ],
   "source": [
    "#r \"nuget:MNCD,1.0.0\""
   ]
  },
  {
   "cell_type": "code",
   "execution_count": null,
   "metadata": {},
   "outputs": [],
   "source": [
    "using MNCD.Core;\n",
    "using MNCD.Writers;\n",
    "using System.Net.Http;\n",
    "using Newtonsoft.Json;\n",
    "\n",
    "public void VisualizeCommunities(Network network, List<Community> communities)\n",
    "{\n",
    "    var writer = new EdgeListWriter();\n",
    "    var edge_list = writer.ToString(network, true);\n",
    "    var communityWriter = new ActorCommunityListWriter();\n",
    "    var community_list = communityWriter.ToString(network.Actors, communities, true);\n",
    "    var client = new HttpClient();\n",
    "    var uri = \"https://mncd-viz.azurewebsites.net/api/multi-layer/slices-communities\";\n",
    "    var body = new\n",
    "    {\n",
    "      edge_list = edge_list,\n",
    "      community_list = community_list,\n",
    "      image_format = \"svg\"\n",
    "    };\n",
    "    var json = JsonConvert.SerializeObject(body);\n",
    "    var content = new StringContent(json);\n",
    "    var result = client.PostAsync(uri, content).Result;\n",
    "    var svg = result.Content.ReadAsStringAsync().Result;\n",
    "        \n",
    "    display(HTML(svg));\n",
    "}"
   ]
  }
 ],
 "metadata": {
  "kernelspec": {
   "display_name": ".NET (C#)",
   "language": "C#",
   "name": ".net-csharp"
  },
  "language_info": {
   "file_extension": ".cs",
   "mimetype": "text/x-csharp",
   "name": "C#",
   "pygments_lexer": "csharp",
   "version": "8.0"
  }
 },
 "nbformat": 4,
 "nbformat_minor": 2
}
