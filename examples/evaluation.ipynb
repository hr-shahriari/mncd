{
 "cells": [
  {
   "cell_type": "code",
   "execution_count": 1,
   "metadata": {},
   "outputs": [
    {
     "data": {
      "text/html": [
       "Installing package MNCD, version 1.0.0..........................................................done!"
      ]
     },
     "metadata": {},
     "output_type": "display_data"
    },
    {
     "data": {
      "text/html": [
       "Successfully added reference to package MNCD, version 1.0.0"
      ]
     },
     "metadata": {},
     "output_type": "display_data"
    }
   ],
   "source": [
    "#r \"nuget:MNCD,1.0.0\""
   ]
  },
  {
   "cell_type": "code",
   "execution_count": 2,
   "metadata": {},
   "outputs": [],
   "source": [
    "using MNCD.Core;\n",
    "\n",
    "// 0          4\n",
    "// | \\      / |\n",
    "// |  2 -- 3  |\n",
    "// | /      \\ |\n",
    "// 1          5\n",
    "var actorsSingle = new List<Actor>\n",
    "{\n",
    "    new Actor(\"Actor_0\"),\n",
    "    new Actor(\"Actor_1\"),\n",
    "    new Actor(\"Actor_2\"),\n",
    "    new Actor(\"Actor_3\"),\n",
    "    new Actor(\"Actor_4\"),\n",
    "    new Actor(\"Actor_5\"),\n",
    "};\n",
    "var edgesSingle = new List<Edge>\n",
    "{\n",
    "    new Edge(actorsSingle[0], actorsSingle[1]),\n",
    "    new Edge(actorsSingle[0], actorsSingle[2]),\n",
    "    new Edge(actorsSingle[1], actorsSingle[2]),\n",
    "    new Edge(actorsSingle[2], actorsSingle[3]),\n",
    "    new Edge(actorsSingle[3], actorsSingle[4]),\n",
    "    new Edge(actorsSingle[3], actorsSingle[5]),\n",
    "    new Edge(actorsSingle[4], actorsSingle[5])\n",
    "};\n",
    "var layerSingle = new Layer(edgesSingle);\n",
    "var singleLayer = new Network(layerSingle, actorsSingle);\n",
    "\n",
    "// L1            L2\n",
    "// 0             4\n",
    "// | \\  L1-L2  / |\n",
    "// |  2 ----- 3  |\n",
    "// | /         \\ |\n",
    "// 1             5\n",
    "var aMulti = new List<Actor>\n",
    "{\n",
    "    new Actor(\"a0\"),\n",
    "    new Actor(\"a1\"),\n",
    "    new Actor(\"a2\"),\n",
    "    new Actor(\"a3\"),\n",
    "    new Actor(\"a4\"),\n",
    "    new Actor(\"a5\"),\n",
    "};\n",
    "var e0Multi = new List<Edge>\n",
    "{\n",
    "    new Edge(aMulti[0], aMulti[1]),\n",
    "    new Edge(aMulti[0], aMulti[2]),\n",
    "    new Edge(aMulti[1], aMulti[2]),\n",
    "};\n",
    "var e1Multi = new List<Edge>\n",
    "{\n",
    "    new Edge(aMulti[3], aMulti[4]),\n",
    "    new Edge(aMulti[3], aMulti[5]),\n",
    "    new Edge(aMulti[4], aMulti[5])\n",
    "};\n",
    "var l0Multi = new Layer(e0Multi) { Name = \"Layer_0\" };\n",
    "var l1Multi = new Layer(e1Multi) { Name = \"Layer_1\" };\n",
    "var lMulti = new List<Layer> { l0Multi, l1Multi };\n",
    "var iMulti = new List<InterLayerEdge>\n",
    "{\n",
    "    new InterLayerEdge(aMulti[2], l0Multi, aMulti[3], l1Multi)\n",
    "};\n",
    "var multiLayer = new Network(lMulti, aMulti)\n",
    "{\n",
    "    InterLayerEdges = iMulti\n",
    "};"
   ]
  },
  {
   "cell_type": "markdown",
   "metadata": {},
   "source": [
    "# Evaluation\n",
    "\n",
    "Single-Layer\n",
    "- Performance\n",
    "- Coverage\n",
    "- Modularity\n",
    "\n",
    "Multi-Layer\n",
    "- Complementarity\n",
    "- Exclusivity\n",
    "- Homogenity\n",
    "- Redundancy\n",
    "- Variety"
   ]
  },
  {
   "cell_type": "markdown",
   "metadata": {},
   "source": [
    "# Single-Layer"
   ]
  },
  {
   "cell_type": "code",
   "execution_count": 3,
   "metadata": {},
   "outputs": [
    {
     "data": {
      "text/html": [
       "<table><thead><tr><th><i>key</i></th><th>value</th></tr></thead><tbody><tr><td>Performance</td><td>0.9333333333333333</td></tr><tr><td>Coverage</td><td>0.8571428571428571</td></tr><tr><td>Modularity</td><td>0.3571428571428571</td></tr></tbody></table>"
      ]
     },
     "metadata": {},
     "output_type": "display_data"
    }
   ],
   "source": [
    "using MNCD.Evaluation.SingleLayer;\n",
    "\n",
    "var communities = new List<Community>\n",
    "{\n",
    "    new Community(actorsSingle[0], actorsSingle[1], actorsSingle[2]),\n",
    "    new Community(actorsSingle[3], actorsSingle[4], actorsSingle[5]),\n",
    "};\n",
    "\n",
    "var results = new Dictionary<string, double>();\n",
    "results[\"Performance\"] = Performance.Get(singleLayer, communities);\n",
    "results[\"Coverage\"] = Coverage.Get(singleLayer, communities);\n",
    "results[\"Modularity\"] = Modularity.Compute(singleLayer, communities);\n",
    "\n",
    "display(results);"
   ]
  },
  {
   "cell_type": "markdown",
   "metadata": {},
   "source": [
    "# Multi-Layer"
   ]
  },
  {
   "cell_type": "code",
   "execution_count": 4,
   "metadata": {},
   "outputs": [
    {
     "data": {
      "text/html": [
       "<table><thead><tr><th><i>key</i></th><th>value</th></tr></thead><tbody><tr><td>Complementarity</td><td>0</td></tr><tr><td>Exclusivity</td><td>1</td></tr><tr><td>Variety</td><td>0</td></tr><tr><td>Homogenity</td><td>1</td></tr><tr><td>Redundancy</td><td>0</td></tr></tbody></table>"
      ]
     },
     "metadata": {},
     "output_type": "display_data"
    }
   ],
   "source": [
    "using MNCD.Core;\n",
    "using MNCD.Evaluation.MultiLayer;\n",
    "\n",
    "var community = new Community(aMulti[1], aMulti[2], aMulti[3]);\n",
    "\n",
    "var results = new Dictionary<string, double>();\n",
    "\n",
    "results[\"Complementarity\"] = Complementarity.Compute(community, multiLayer);\n",
    "results[\"Exclusivity\"] = Exclusivity.Compute(community, multiLayer);\n",
    "results[\"Variety\"] = Variety.Compute(community, multiLayer);\n",
    "results[\"Homogenity\"] = Homogenity.Compute(community, multiLayer);\n",
    "results[\"Redundancy\"] = Redundancy.Compute(community, multiLayer);\n",
    "\n",
    "display(results);"
   ]
  }
 ],
 "metadata": {
  "kernelspec": {
   "display_name": ".NET (C#)",
   "language": "C#",
   "name": ".net-csharp"
  },
  "language_info": {
   "file_extension": ".cs",
   "mimetype": "text/x-csharp",
   "name": "C#",
   "pygments_lexer": "csharp",
   "version": "8.0"
  }
 },
 "nbformat": 4,
 "nbformat_minor": 2
}
